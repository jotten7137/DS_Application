{
  "nbformat": 4,
  "nbformat_minor": 0,
  "metadata": {
    "colab": {
      "provenance": [],
      "authorship_tag": "ABX9TyPKUe5G3EDXZF2IYxr+QYH3",
      "include_colab_link": true
    },
    "kernelspec": {
      "name": "python3",
      "display_name": "Python 3"
    },
    "language_info": {
      "name": "python"
    }
  },
  "cells": [
    {
      "cell_type": "markdown",
      "metadata": {
        "id": "view-in-github",
        "colab_type": "text"
      },
      "source": [
        "<a href=\"https://colab.research.google.com/github/jotten7137/DS_Application/blob/main/Otten_D590_Week1_Coding_Practice.ipynb\" target=\"_parent\"><img src=\"https://colab.research.google.com/assets/colab-badge.svg\" alt=\"Open In Colab\"/></a>"
      ]
    },
    {
      "cell_type": "markdown",
      "source": [
        "Joshua Otten </br>\n",
        "D590 - Application of Data Science </br>\n",
        "Week 1 Coding Practice </br>\n",
        "2023.08.27\n",
        "\n",
        "Assignment - Follow Google Colab Tutorial: <br>\n",
        "https://www.tutorialspoint.com/google_colab/google_colab_tutorial.pdf\n",
        "(skip Ch12-13 - Adding Google Forms and Installing ML)\n",
        "\n",
        "Note:\n",
        "- GPU section - use this code (to practice loading data and using GPU):\n",
        "https://colab.research.google.com/drive/1wNA9FV1vKcF6_m0oNh_vSlAMOcMKHnJc?usp=sharing.\n",
        "\n",
        "- Remote Data section (remote data location has changed) - use this code:\n",
        "https://colab.research.google.com/drive/1Kfjl5Fm0AcyiaVf8Sn0WAr5Tl6cDh9y9?usp=sharing"
      ],
      "metadata": {
        "id": "a3dAM06H9DYF"
      }
    },
    {
      "cell_type": "markdown",
      "source": [
        "1 - Google Colab Introduction\n",
        "\n",
        "Google is quite aggressive in AI research.\n",
        "Google developed AI framework called TensorFlow and a development tool called Colaboratory.\n",
        "- TensorFlow is open-sourced and since 2017\n",
        "- Colaboratory free for public use - now known as Google Colab or simply Colab.\n",
        "\n",
        "Colab supports GPU and is free for the public:\n",
        "-  establish software standard in the academics for teaching machine learning and data science.\n",
        "- long term perspective of building a customer base for Google Cloud APIs  "
      ],
      "metadata": {
        "id": "nG9abY8A804P"
      }
    },
    {
      "cell_type": "markdown",
      "source": [
        "2 - What is Google Colab? <br>\n",
        "\n",
        "Knowing Jupyter notebook = quickly learn to use Google Colab.\n",
        "\n",
        "Colab is a free Jupyter notebook environment that runs entirely in the cloud.\n",
        "- it does not require a setup\n",
        "- notebooks that you create can be simultaneously edited by your team members\n",
        "- supports many popular machine learning libraries (easily loaded into your notebook).  \n",
        "\n",
        "What Colab Offers You?\n",
        "As a programmer, you can perform the following using Google Colab:\n",
        "1. Write and execute code in Python\n",
        "2. Document your code that supports mathematical equations\n",
        "3. Create/Upload/Share notebooks\n",
        "4. Import/Save notebooks from/to Google Drive\n",
        "5. Import/Publish notebooks from GitHub\n",
        "6. Import external datasets e.g. from Kaggle\n",
        "7. Integrate PyTorch, TensorFlow, Keras, OpenCV \n",
        "8. Free Cloud service with free GPU\n"
      ],
      "metadata": {
        "id": "VRS_RHqrAZRS"
      }
    },
    {
      "cell_type": "markdown",
      "source": [
        "3 - Your First Colab Notebook\n"
      ],
      "metadata": {
        "id": "TPB2Me-mCF2f"
      }
    },
    {
      "cell_type": "code",
      "execution_count": null,
      "metadata": {
        "colab": {
          "base_uri": "https://localhost:8080/"
        },
        "id": "LFFNQLe38hEy",
        "outputId": "98478ad9-fb52-4d17-97ec-0e6f498d6fe1"
      },
      "outputs": [
        {
          "output_type": "stream",
          "name": "stdout",
          "text": [
            "Wed Aug 23 20:18:43 2023\n"
          ]
        }
      ],
      "source": [
        "import time\n",
        "print(time.ctime())"
      ]
    },
    {
      "cell_type": "code",
      "source": [
        "time.sleep(5)\n",
        "print (time.ctime())"
      ],
      "metadata": {
        "colab": {
          "base_uri": "https://localhost:8080/"
        },
        "id": "oiFhDpFaC-pX",
        "outputId": "0166917b-0105-4ae2-f088-75f4fdb961e8"
      },
      "execution_count": null,
      "outputs": [
        {
          "output_type": "stream",
          "name": "stdout",
          "text": [
            "Wed Aug 23 20:18:48 2023\n"
          ]
        }
      ]
    },
    {
      "cell_type": "markdown",
      "source": [
        "4 - Documenting Your Code"
      ],
      "metadata": {
        "id": "teWP98XtDfcA"
      }
    },
    {
      "cell_type": "markdown",
      "source": [
        "This is **bold**.  \n",
        "This is *italic*.  \n",
        "This is ~strikethrough~."
      ],
      "metadata": {
        "id": "Mev5Qq7EEnVi"
      }
    },
    {
      "cell_type": "markdown",
      "source": [
        "$\\sqrt{3x-1}+(1+x)^2$"
      ],
      "metadata": {
        "id": "SbukX_CJEugy"
      }
    },
    {
      "cell_type": "markdown",
      "source": [
        "$e^x=\\sum_{i=0}^\\infty \\frac{1}{i!}x^i$"
      ],
      "metadata": {
        "id": "df1tNYscE0ri"
      }
    },
    {
      "cell_type": "markdown",
      "source": [
        "Constraints are     \n",
        "- $3x_1  +  6x_2 + x_3 =< 28$    \n",
        "- $7x_1  +  3x_2 + 2x_3  =< 37$    \n",
        "- $4x_1  +  5x_2 + 2x_3 =< 19$       \n",
        "- $x_1,x_2,x_3 >=0 $  \n",
        "\n",
        "The trial vector is calculated as follows:\n",
        "- $u_i(t) = x_i(t) + \\beta(\\hat{x}(t) − x_i(t)) + \\beta \\sum_{k = 1}^{n         _v}(x_{i1,k}(t) − x_{i2,k}(t))$  \n",
        "\n",
        "$f(x_1, x_2) = 20 + e - 20exp(-0.2 \\sqrt {\\frac {1}{n} (x_1^2 + x_2^2)}) - exp (\\frac {1}{n}(cos(2\\pi x_1) + cos(2\\pi x_2))$ $x ∈ [-5, 5]$  \n",
        "\n",
        ">$A_{m,n} =  \n",
        "\\begin{pmatrix}   \n",
        "a_{1,1} & a_{1,2} & \\cdots & a_{1,n} \\\\   \n",
        "a_{2,1} & a_{2,2} & \\cdots & a_{2,n} \\\\   \n",
        "\\vdots  & \\vdots  & \\ddots & \\vdots  \\\\   \n",
        "a_{m,1} & a_{m,2} & \\cdots & a_{m,n}  \n",
        "\\end{pmatrix}$"
      ],
      "metadata": {
        "id": "VMopvu7kE7zL"
      }
    },
    {
      "cell_type": "markdown",
      "source": [
        "5 - Saving Your Work"
      ],
      "metadata": {
        "id": "zXp6XsaDFfWr"
      }
    },
    {
      "cell_type": "code",
      "source": [],
      "metadata": {
        "id": "oy_HC2aDDh7B"
      },
      "execution_count": null,
      "outputs": []
    }
  ]
}